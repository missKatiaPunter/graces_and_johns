{
 "cells": [
  {
   "cell_type": "markdown",
   "source": "# Simple Plotly dashboards",
   "metadata": {
    "cell_id": "537fcf2ff1924c189fc577d5a758fe02",
    "tags": [],
    "deepnote_cell_type": "markdown",
    "deepnote_cell_height": 82
   }
  },
  {
   "cell_type": "markdown",
   "source": "The data for this notebook comes from BigQuery public data set. \n\n```sql\nSELECT\n  year,\n  SUM(number) as Graces\nFROM\n  `bigquery-public-data.usa_names.usa_1910_current`\nWHERE\n  name='Grace'\nGROUP BY\n  year\nORDER BY year;\n```\n\nA similar SQL query got the sum of people named John grouped per year.",
   "metadata": {
    "cell_id": "44381304407f4acc9603b6baa91dc640",
    "tags": [],
    "deepnote_cell_type": "markdown",
    "deepnote_cell_height": 332.75
   }
  },
  {
   "cell_type": "code",
   "metadata": {
    "tags": [],
    "cell_id": "df0f2c34-c0e8-4146-a8ec-8a91f5be08d4",
    "deepnote_to_be_reexecuted": false,
    "source_hash": "9b82ee11",
    "execution_start": 1649871060000,
    "execution_millis": 1,
    "deepnote_cell_type": "code",
    "deepnote_cell_height": 81
   },
   "source": "import pandas as pd",
   "execution_count": 1,
   "outputs": []
  },
  {
   "cell_type": "code",
   "metadata": {
    "cell_id": "56538869e0904539a5869b95966bf377",
    "tags": [],
    "deepnote_to_be_reexecuted": false,
    "source_hash": "2f62b91c",
    "execution_start": 1649871060001,
    "execution_millis": 26,
    "deepnote_cell_type": "code",
    "deepnote_cell_height": 81
   },
   "source": "graces = pd.read_csv('graces_per_year.csv')",
   "execution_count": 2,
   "outputs": []
  },
  {
   "cell_type": "code",
   "metadata": {
    "cell_id": "a4c5fd965f4b4d8cb6f125a6881a65fa",
    "tags": [],
    "deepnote_to_be_reexecuted": false,
    "source_hash": "e8022437",
    "execution_start": 1649871060028,
    "execution_millis": 0,
    "deepnote_cell_type": "code",
    "deepnote_cell_height": 81
   },
   "source": "johns = pd.read_csv('johns_per_year.csv')",
   "execution_count": 3,
   "outputs": []
  },
  {
   "cell_type": "code",
   "metadata": {
    "cell_id": "b01ad5db08244096ba96ad490c43f863",
    "tags": [],
    "deepnote_to_be_reexecuted": false,
    "source_hash": "53ad6494",
    "execution_start": 1649871060029,
    "execution_millis": 7,
    "deepnote_cell_type": "code",
    "deepnote_cell_height": 600
   },
   "source": "graces",
   "execution_count": 4,
   "outputs": [
    {
     "output_type": "execute_result",
     "execution_count": 4,
     "data": {
      "application/vnd.deepnote.dataframe.v3+json": {
       "column_count": 2,
       "row_count": 111,
       "columns": [
        {
         "name": "year",
         "dtype": "int64",
         "stats": {
          "unique_count": 111,
          "nan_count": 0,
          "min": "1910",
          "max": "2020",
          "histogram": [
           {
            "bin_start": 1910,
            "bin_end": 1921,
            "count": 11
           },
           {
            "bin_start": 1921,
            "bin_end": 1932,
            "count": 11
           },
           {
            "bin_start": 1932,
            "bin_end": 1943,
            "count": 11
           },
           {
            "bin_start": 1943,
            "bin_end": 1954,
            "count": 11
           },
           {
            "bin_start": 1954,
            "bin_end": 1965,
            "count": 11
           },
           {
            "bin_start": 1965,
            "bin_end": 1976,
            "count": 11
           },
           {
            "bin_start": 1976,
            "bin_end": 1987,
            "count": 11
           },
           {
            "bin_start": 1987,
            "bin_end": 1998,
            "count": 11
           },
           {
            "bin_start": 1998,
            "bin_end": 2009,
            "count": 11
           },
           {
            "bin_start": 2009,
            "bin_end": 2020,
            "count": 12
           }
          ]
         }
        },
        {
         "name": "Graces",
         "dtype": "int64",
         "stats": {
          "unique_count": 111,
          "nan_count": 0,
          "min": "470",
          "max": "12786",
          "histogram": [
           {
            "bin_start": 470,
            "bin_end": 1701.6,
            "count": 39
           },
           {
            "bin_start": 1701.6,
            "bin_end": 2933.2,
            "count": 19
           },
           {
            "bin_start": 2933.2,
            "bin_end": 4164.799999999999,
            "count": 10
           },
           {
            "bin_start": 4164.799999999999,
            "bin_end": 5396.4,
            "count": 7
           },
           {
            "bin_start": 5396.4,
            "bin_end": 6628,
            "count": 8
           },
           {
            "bin_start": 6628,
            "bin_end": 7859.599999999999,
            "count": 17
           },
           {
            "bin_start": 7859.599999999999,
            "bin_end": 9091.199999999999,
            "count": 2
           },
           {
            "bin_start": 9091.199999999999,
            "bin_end": 10322.8,
            "count": 2
           },
           {
            "bin_start": 10322.8,
            "bin_end": 11554.4,
            "count": 2
           },
           {
            "bin_start": 11554.4,
            "bin_end": 12786,
            "count": 5
           }
          ]
         }
        },
        {
         "name": "_deepnote_index_column",
         "dtype": "int64"
        }
       ],
       "rows": [
        {
         "year": 1910,
         "Graces": 3134,
         "_deepnote_index_column": 0
        },
        {
         "year": 1911,
         "Graces": 3300,
         "_deepnote_index_column": 1
        },
        {
         "year": 1912,
         "Graces": 4409,
         "_deepnote_index_column": 2
        },
        {
         "year": 1913,
         "Graces": 4660,
         "_deepnote_index_column": 3
        },
        {
         "year": 1914,
         "Graces": 5584,
         "_deepnote_index_column": 4
        },
        {
         "year": 1915,
         "Graces": 7043,
         "_deepnote_index_column": 5
        },
        {
         "year": 1916,
         "Graces": 7459,
         "_deepnote_index_column": 6
        },
        {
         "year": 1917,
         "Graces": 7369,
         "_deepnote_index_column": 7
        },
        {
         "year": 1918,
         "Graces": 7770,
         "_deepnote_index_column": 8
        },
        {
         "year": 1919,
         "Graces": 7190,
         "_deepnote_index_column": 9
        }
       ]
      },
      "text/plain": "     year  Graces\n0    1910    3134\n1    1911    3300\n2    1912    4409\n3    1913    4660\n4    1914    5584\n..    ...     ...\n106  2016    7604\n107  2017    7057\n108  2018    6766\n109  2019    6075\n110  2020    5569\n\n[111 rows x 2 columns]",
      "text/html": "<div>\n<style scoped>\n    .dataframe tbody tr th:only-of-type {\n        vertical-align: middle;\n    }\n\n    .dataframe tbody tr th {\n        vertical-align: top;\n    }\n\n    .dataframe thead th {\n        text-align: right;\n    }\n</style>\n<table border=\"1\" class=\"dataframe\">\n  <thead>\n    <tr style=\"text-align: right;\">\n      <th></th>\n      <th>year</th>\n      <th>Graces</th>\n    </tr>\n  </thead>\n  <tbody>\n    <tr>\n      <th>0</th>\n      <td>1910</td>\n      <td>3134</td>\n    </tr>\n    <tr>\n      <th>1</th>\n      <td>1911</td>\n      <td>3300</td>\n    </tr>\n    <tr>\n      <th>2</th>\n      <td>1912</td>\n      <td>4409</td>\n    </tr>\n    <tr>\n      <th>3</th>\n      <td>1913</td>\n      <td>4660</td>\n    </tr>\n    <tr>\n      <th>4</th>\n      <td>1914</td>\n      <td>5584</td>\n    </tr>\n    <tr>\n      <th>...</th>\n      <td>...</td>\n      <td>...</td>\n    </tr>\n    <tr>\n      <th>106</th>\n      <td>2016</td>\n      <td>7604</td>\n    </tr>\n    <tr>\n      <th>107</th>\n      <td>2017</td>\n      <td>7057</td>\n    </tr>\n    <tr>\n      <th>108</th>\n      <td>2018</td>\n      <td>6766</td>\n    </tr>\n    <tr>\n      <th>109</th>\n      <td>2019</td>\n      <td>6075</td>\n    </tr>\n    <tr>\n      <th>110</th>\n      <td>2020</td>\n      <td>5569</td>\n    </tr>\n  </tbody>\n</table>\n<p>111 rows × 2 columns</p>\n</div>"
     },
     "metadata": {}
    }
   ]
  },
  {
   "cell_type": "code",
   "metadata": {
    "cell_id": "4e9bf81624cb4e37b198a7dd990fbaa8",
    "tags": [],
    "deepnote_to_be_reexecuted": false,
    "source_hash": "fc1bdd84",
    "execution_start": 1649871060084,
    "execution_millis": 3,
    "deepnote_cell_type": "code",
    "deepnote_cell_height": 600
   },
   "source": "johns",
   "execution_count": 5,
   "outputs": [
    {
     "output_type": "execute_result",
     "execution_count": 5,
     "data": {
      "application/vnd.deepnote.dataframe.v3+json": {
       "column_count": 2,
       "row_count": 111,
       "columns": [
        {
         "name": "year",
         "dtype": "int64",
         "stats": {
          "unique_count": 111,
          "nan_count": 0,
          "min": "1910",
          "max": "2020",
          "histogram": [
           {
            "bin_start": 1910,
            "bin_end": 1921,
            "count": 11
           },
           {
            "bin_start": 1921,
            "bin_end": 1932,
            "count": 11
           },
           {
            "bin_start": 1932,
            "bin_end": 1943,
            "count": 11
           },
           {
            "bin_start": 1943,
            "bin_end": 1954,
            "count": 11
           },
           {
            "bin_start": 1954,
            "bin_end": 1965,
            "count": 11
           },
           {
            "bin_start": 1965,
            "bin_end": 1976,
            "count": 11
           },
           {
            "bin_start": 1976,
            "bin_end": 1987,
            "count": 11
           },
           {
            "bin_start": 1987,
            "bin_end": 1998,
            "count": 11
           },
           {
            "bin_start": 1998,
            "bin_end": 2009,
            "count": 11
           },
           {
            "bin_start": 2009,
            "bin_end": 2020,
            "count": 12
           }
          ]
         }
        },
        {
         "name": "John",
         "dtype": "int64",
         "stats": {
          "unique_count": 110,
          "nan_count": 0,
          "min": "8180",
          "max": "88472",
          "histogram": [
           {
            "bin_start": 8180,
            "bin_end": 16209.2,
            "count": 18
           },
           {
            "bin_start": 16209.2,
            "bin_end": 24238.4,
            "count": 11
           },
           {
            "bin_start": 24238.4,
            "bin_end": 32267.6,
            "count": 11
           },
           {
            "bin_start": 32267.6,
            "bin_end": 40296.8,
            "count": 13
           },
           {
            "bin_start": 40296.8,
            "bin_end": 48326,
            "count": 6
           },
           {
            "bin_start": 48326,
            "bin_end": 56355.2,
            "count": 14
           },
           {
            "bin_start": 56355.2,
            "bin_end": 64384.4,
            "count": 13
           },
           {
            "bin_start": 64384.4,
            "bin_end": 72413.6,
            "count": 6
           },
           {
            "bin_start": 72413.6,
            "bin_end": 80442.8,
            "count": 11
           },
           {
            "bin_start": 80442.8,
            "bin_end": 88472,
            "count": 8
           }
          ]
         }
        },
        {
         "name": "_deepnote_index_column",
         "dtype": "int64"
        }
       ],
       "rows": [
        {
         "year": 1910,
         "John": 11479,
         "_deepnote_index_column": 0
        },
        {
         "year": 1911,
         "John": 13469,
         "_deepnote_index_column": 1
        },
        {
         "year": 1912,
         "John": 24662,
         "_deepnote_index_column": 2
        },
        {
         "year": 1913,
         "John": 29401,
         "_deepnote_index_column": 3
        },
        {
         "year": 1914,
         "John": 38051,
         "_deepnote_index_column": 4
        },
        {
         "year": 1915,
         "John": 47716,
         "_deepnote_index_column": 5
        },
        {
         "year": 1916,
         "John": 50216,
         "_deepnote_index_column": 6
        },
        {
         "year": 1917,
         "John": 52053,
         "_deepnote_index_column": 7
        },
        {
         "year": 1918,
         "John": 56772,
         "_deepnote_index_column": 8
        },
        {
         "year": 1919,
         "John": 53775,
         "_deepnote_index_column": 9
        }
       ]
      },
      "text/plain": "     year   John\n0    1910  11479\n1    1911  13469\n2    1912  24662\n3    1913  29401\n4    1914  38051\n..    ...    ...\n106  2016  10034\n107  2017   9503\n108  2018   9170\n109  2019   8813\n110  2020   8180\n\n[111 rows x 2 columns]",
      "text/html": "<div>\n<style scoped>\n    .dataframe tbody tr th:only-of-type {\n        vertical-align: middle;\n    }\n\n    .dataframe tbody tr th {\n        vertical-align: top;\n    }\n\n    .dataframe thead th {\n        text-align: right;\n    }\n</style>\n<table border=\"1\" class=\"dataframe\">\n  <thead>\n    <tr style=\"text-align: right;\">\n      <th></th>\n      <th>year</th>\n      <th>John</th>\n    </tr>\n  </thead>\n  <tbody>\n    <tr>\n      <th>0</th>\n      <td>1910</td>\n      <td>11479</td>\n    </tr>\n    <tr>\n      <th>1</th>\n      <td>1911</td>\n      <td>13469</td>\n    </tr>\n    <tr>\n      <th>2</th>\n      <td>1912</td>\n      <td>24662</td>\n    </tr>\n    <tr>\n      <th>3</th>\n      <td>1913</td>\n      <td>29401</td>\n    </tr>\n    <tr>\n      <th>4</th>\n      <td>1914</td>\n      <td>38051</td>\n    </tr>\n    <tr>\n      <th>...</th>\n      <td>...</td>\n      <td>...</td>\n    </tr>\n    <tr>\n      <th>106</th>\n      <td>2016</td>\n      <td>10034</td>\n    </tr>\n    <tr>\n      <th>107</th>\n      <td>2017</td>\n      <td>9503</td>\n    </tr>\n    <tr>\n      <th>108</th>\n      <td>2018</td>\n      <td>9170</td>\n    </tr>\n    <tr>\n      <th>109</th>\n      <td>2019</td>\n      <td>8813</td>\n    </tr>\n    <tr>\n      <th>110</th>\n      <td>2020</td>\n      <td>8180</td>\n    </tr>\n  </tbody>\n</table>\n<p>111 rows × 2 columns</p>\n</div>"
     },
     "metadata": {}
    }
   ]
  },
  {
   "cell_type": "code",
   "metadata": {
    "cell_id": "3ebac7a3e0d14a72ada5e7eeed4f3a27",
    "tags": [],
    "deepnote_to_be_reexecuted": false,
    "source_hash": "85637ce8",
    "execution_start": 1649871060086,
    "execution_millis": 22,
    "deepnote_cell_type": "code",
    "deepnote_cell_height": 81
   },
   "source": "johns.columns = johns.columns.str.replace('John', 'Johns')",
   "execution_count": 6,
   "outputs": []
  },
  {
   "cell_type": "code",
   "metadata": {
    "cell_id": "84297062f16540efb319c0c4e69dbc23",
    "tags": [],
    "deepnote_to_be_reexecuted": false,
    "source_hash": "fc1bdd84",
    "execution_start": 1649871060108,
    "execution_millis": 3,
    "deepnote_cell_type": "code",
    "deepnote_cell_height": 600
   },
   "source": "johns",
   "execution_count": 7,
   "outputs": [
    {
     "output_type": "execute_result",
     "execution_count": 7,
     "data": {
      "application/vnd.deepnote.dataframe.v3+json": {
       "column_count": 2,
       "row_count": 111,
       "columns": [
        {
         "name": "year",
         "dtype": "int64",
         "stats": {
          "unique_count": 111,
          "nan_count": 0,
          "min": "1910",
          "max": "2020",
          "histogram": [
           {
            "bin_start": 1910,
            "bin_end": 1921,
            "count": 11
           },
           {
            "bin_start": 1921,
            "bin_end": 1932,
            "count": 11
           },
           {
            "bin_start": 1932,
            "bin_end": 1943,
            "count": 11
           },
           {
            "bin_start": 1943,
            "bin_end": 1954,
            "count": 11
           },
           {
            "bin_start": 1954,
            "bin_end": 1965,
            "count": 11
           },
           {
            "bin_start": 1965,
            "bin_end": 1976,
            "count": 11
           },
           {
            "bin_start": 1976,
            "bin_end": 1987,
            "count": 11
           },
           {
            "bin_start": 1987,
            "bin_end": 1998,
            "count": 11
           },
           {
            "bin_start": 1998,
            "bin_end": 2009,
            "count": 11
           },
           {
            "bin_start": 2009,
            "bin_end": 2020,
            "count": 12
           }
          ]
         }
        },
        {
         "name": "Johns",
         "dtype": "int64",
         "stats": {
          "unique_count": 110,
          "nan_count": 0,
          "min": "8180",
          "max": "88472",
          "histogram": [
           {
            "bin_start": 8180,
            "bin_end": 16209.2,
            "count": 18
           },
           {
            "bin_start": 16209.2,
            "bin_end": 24238.4,
            "count": 11
           },
           {
            "bin_start": 24238.4,
            "bin_end": 32267.6,
            "count": 11
           },
           {
            "bin_start": 32267.6,
            "bin_end": 40296.8,
            "count": 13
           },
           {
            "bin_start": 40296.8,
            "bin_end": 48326,
            "count": 6
           },
           {
            "bin_start": 48326,
            "bin_end": 56355.2,
            "count": 14
           },
           {
            "bin_start": 56355.2,
            "bin_end": 64384.4,
            "count": 13
           },
           {
            "bin_start": 64384.4,
            "bin_end": 72413.6,
            "count": 6
           },
           {
            "bin_start": 72413.6,
            "bin_end": 80442.8,
            "count": 11
           },
           {
            "bin_start": 80442.8,
            "bin_end": 88472,
            "count": 8
           }
          ]
         }
        },
        {
         "name": "_deepnote_index_column",
         "dtype": "int64"
        }
       ],
       "rows": [
        {
         "year": 1910,
         "Johns": 11479,
         "_deepnote_index_column": 0
        },
        {
         "year": 1911,
         "Johns": 13469,
         "_deepnote_index_column": 1
        },
        {
         "year": 1912,
         "Johns": 24662,
         "_deepnote_index_column": 2
        },
        {
         "year": 1913,
         "Johns": 29401,
         "_deepnote_index_column": 3
        },
        {
         "year": 1914,
         "Johns": 38051,
         "_deepnote_index_column": 4
        },
        {
         "year": 1915,
         "Johns": 47716,
         "_deepnote_index_column": 5
        },
        {
         "year": 1916,
         "Johns": 50216,
         "_deepnote_index_column": 6
        },
        {
         "year": 1917,
         "Johns": 52053,
         "_deepnote_index_column": 7
        },
        {
         "year": 1918,
         "Johns": 56772,
         "_deepnote_index_column": 8
        },
        {
         "year": 1919,
         "Johns": 53775,
         "_deepnote_index_column": 9
        }
       ]
      },
      "text/plain": "     year  Johns\n0    1910  11479\n1    1911  13469\n2    1912  24662\n3    1913  29401\n4    1914  38051\n..    ...    ...\n106  2016  10034\n107  2017   9503\n108  2018   9170\n109  2019   8813\n110  2020   8180\n\n[111 rows x 2 columns]",
      "text/html": "<div>\n<style scoped>\n    .dataframe tbody tr th:only-of-type {\n        vertical-align: middle;\n    }\n\n    .dataframe tbody tr th {\n        vertical-align: top;\n    }\n\n    .dataframe thead th {\n        text-align: right;\n    }\n</style>\n<table border=\"1\" class=\"dataframe\">\n  <thead>\n    <tr style=\"text-align: right;\">\n      <th></th>\n      <th>year</th>\n      <th>Johns</th>\n    </tr>\n  </thead>\n  <tbody>\n    <tr>\n      <th>0</th>\n      <td>1910</td>\n      <td>11479</td>\n    </tr>\n    <tr>\n      <th>1</th>\n      <td>1911</td>\n      <td>13469</td>\n    </tr>\n    <tr>\n      <th>2</th>\n      <td>1912</td>\n      <td>24662</td>\n    </tr>\n    <tr>\n      <th>3</th>\n      <td>1913</td>\n      <td>29401</td>\n    </tr>\n    <tr>\n      <th>4</th>\n      <td>1914</td>\n      <td>38051</td>\n    </tr>\n    <tr>\n      <th>...</th>\n      <td>...</td>\n      <td>...</td>\n    </tr>\n    <tr>\n      <th>106</th>\n      <td>2016</td>\n      <td>10034</td>\n    </tr>\n    <tr>\n      <th>107</th>\n      <td>2017</td>\n      <td>9503</td>\n    </tr>\n    <tr>\n      <th>108</th>\n      <td>2018</td>\n      <td>9170</td>\n    </tr>\n    <tr>\n      <th>109</th>\n      <td>2019</td>\n      <td>8813</td>\n    </tr>\n    <tr>\n      <th>110</th>\n      <td>2020</td>\n      <td>8180</td>\n    </tr>\n  </tbody>\n</table>\n<p>111 rows × 2 columns</p>\n</div>"
     },
     "metadata": {}
    }
   ]
  },
  {
   "cell_type": "code",
   "metadata": {
    "cell_id": "0326559595f249029f4b1beb2139e24a",
    "tags": [],
    "deepnote_to_be_reexecuted": false,
    "source_hash": "4fa2b153",
    "execution_start": 1649871060110,
    "execution_millis": 2,
    "deepnote_cell_type": "code",
    "deepnote_cell_height": 81
   },
   "source": "johns_and_graces = graces.join(johns.set_index('year'), on='year')",
   "execution_count": 8,
   "outputs": []
  },
  {
   "cell_type": "code",
   "metadata": {
    "cell_id": "2453133ae10f4beb9329097fc72b6801",
    "tags": [],
    "deepnote_to_be_reexecuted": false,
    "source_hash": "beae4665",
    "execution_start": 1649871060112,
    "execution_millis": 55,
    "deepnote_cell_type": "code",
    "deepnote_cell_height": 600
   },
   "source": "johns_and_graces",
   "execution_count": 9,
   "outputs": [
    {
     "output_type": "execute_result",
     "execution_count": 9,
     "data": {
      "application/vnd.deepnote.dataframe.v3+json": {
       "column_count": 3,
       "row_count": 111,
       "columns": [
        {
         "name": "year",
         "dtype": "int64",
         "stats": {
          "unique_count": 111,
          "nan_count": 0,
          "min": "1910",
          "max": "2020",
          "histogram": [
           {
            "bin_start": 1910,
            "bin_end": 1921,
            "count": 11
           },
           {
            "bin_start": 1921,
            "bin_end": 1932,
            "count": 11
           },
           {
            "bin_start": 1932,
            "bin_end": 1943,
            "count": 11
           },
           {
            "bin_start": 1943,
            "bin_end": 1954,
            "count": 11
           },
           {
            "bin_start": 1954,
            "bin_end": 1965,
            "count": 11
           },
           {
            "bin_start": 1965,
            "bin_end": 1976,
            "count": 11
           },
           {
            "bin_start": 1976,
            "bin_end": 1987,
            "count": 11
           },
           {
            "bin_start": 1987,
            "bin_end": 1998,
            "count": 11
           },
           {
            "bin_start": 1998,
            "bin_end": 2009,
            "count": 11
           },
           {
            "bin_start": 2009,
            "bin_end": 2020,
            "count": 12
           }
          ]
         }
        },
        {
         "name": "Graces",
         "dtype": "int64",
         "stats": {
          "unique_count": 111,
          "nan_count": 0,
          "min": "470",
          "max": "12786",
          "histogram": [
           {
            "bin_start": 470,
            "bin_end": 1701.6,
            "count": 39
           },
           {
            "bin_start": 1701.6,
            "bin_end": 2933.2,
            "count": 19
           },
           {
            "bin_start": 2933.2,
            "bin_end": 4164.799999999999,
            "count": 10
           },
           {
            "bin_start": 4164.799999999999,
            "bin_end": 5396.4,
            "count": 7
           },
           {
            "bin_start": 5396.4,
            "bin_end": 6628,
            "count": 8
           },
           {
            "bin_start": 6628,
            "bin_end": 7859.599999999999,
            "count": 17
           },
           {
            "bin_start": 7859.599999999999,
            "bin_end": 9091.199999999999,
            "count": 2
           },
           {
            "bin_start": 9091.199999999999,
            "bin_end": 10322.8,
            "count": 2
           },
           {
            "bin_start": 10322.8,
            "bin_end": 11554.4,
            "count": 2
           },
           {
            "bin_start": 11554.4,
            "bin_end": 12786,
            "count": 5
           }
          ]
         }
        },
        {
         "name": "Johns",
         "dtype": "int64",
         "stats": {
          "unique_count": 110,
          "nan_count": 0,
          "min": "8180",
          "max": "88472",
          "histogram": [
           {
            "bin_start": 8180,
            "bin_end": 16209.2,
            "count": 18
           },
           {
            "bin_start": 16209.2,
            "bin_end": 24238.4,
            "count": 11
           },
           {
            "bin_start": 24238.4,
            "bin_end": 32267.6,
            "count": 11
           },
           {
            "bin_start": 32267.6,
            "bin_end": 40296.8,
            "count": 13
           },
           {
            "bin_start": 40296.8,
            "bin_end": 48326,
            "count": 6
           },
           {
            "bin_start": 48326,
            "bin_end": 56355.2,
            "count": 14
           },
           {
            "bin_start": 56355.2,
            "bin_end": 64384.4,
            "count": 13
           },
           {
            "bin_start": 64384.4,
            "bin_end": 72413.6,
            "count": 6
           },
           {
            "bin_start": 72413.6,
            "bin_end": 80442.8,
            "count": 11
           },
           {
            "bin_start": 80442.8,
            "bin_end": 88472,
            "count": 8
           }
          ]
         }
        },
        {
         "name": "_deepnote_index_column",
         "dtype": "int64"
        }
       ],
       "rows": [
        {
         "year": 1910,
         "Graces": 3134,
         "Johns": 11479,
         "_deepnote_index_column": 0
        },
        {
         "year": 1911,
         "Graces": 3300,
         "Johns": 13469,
         "_deepnote_index_column": 1
        },
        {
         "year": 1912,
         "Graces": 4409,
         "Johns": 24662,
         "_deepnote_index_column": 2
        },
        {
         "year": 1913,
         "Graces": 4660,
         "Johns": 29401,
         "_deepnote_index_column": 3
        },
        {
         "year": 1914,
         "Graces": 5584,
         "Johns": 38051,
         "_deepnote_index_column": 4
        },
        {
         "year": 1915,
         "Graces": 7043,
         "Johns": 47716,
         "_deepnote_index_column": 5
        },
        {
         "year": 1916,
         "Graces": 7459,
         "Johns": 50216,
         "_deepnote_index_column": 6
        },
        {
         "year": 1917,
         "Graces": 7369,
         "Johns": 52053,
         "_deepnote_index_column": 7
        },
        {
         "year": 1918,
         "Graces": 7770,
         "Johns": 56772,
         "_deepnote_index_column": 8
        },
        {
         "year": 1919,
         "Graces": 7190,
         "Johns": 53775,
         "_deepnote_index_column": 9
        }
       ]
      },
      "text/plain": "     year  Graces  Johns\n0    1910    3134  11479\n1    1911    3300  13469\n2    1912    4409  24662\n3    1913    4660  29401\n4    1914    5584  38051\n..    ...     ...    ...\n106  2016    7604  10034\n107  2017    7057   9503\n108  2018    6766   9170\n109  2019    6075   8813\n110  2020    5569   8180\n\n[111 rows x 3 columns]",
      "text/html": "<div>\n<style scoped>\n    .dataframe tbody tr th:only-of-type {\n        vertical-align: middle;\n    }\n\n    .dataframe tbody tr th {\n        vertical-align: top;\n    }\n\n    .dataframe thead th {\n        text-align: right;\n    }\n</style>\n<table border=\"1\" class=\"dataframe\">\n  <thead>\n    <tr style=\"text-align: right;\">\n      <th></th>\n      <th>year</th>\n      <th>Graces</th>\n      <th>Johns</th>\n    </tr>\n  </thead>\n  <tbody>\n    <tr>\n      <th>0</th>\n      <td>1910</td>\n      <td>3134</td>\n      <td>11479</td>\n    </tr>\n    <tr>\n      <th>1</th>\n      <td>1911</td>\n      <td>3300</td>\n      <td>13469</td>\n    </tr>\n    <tr>\n      <th>2</th>\n      <td>1912</td>\n      <td>4409</td>\n      <td>24662</td>\n    </tr>\n    <tr>\n      <th>3</th>\n      <td>1913</td>\n      <td>4660</td>\n      <td>29401</td>\n    </tr>\n    <tr>\n      <th>4</th>\n      <td>1914</td>\n      <td>5584</td>\n      <td>38051</td>\n    </tr>\n    <tr>\n      <th>...</th>\n      <td>...</td>\n      <td>...</td>\n      <td>...</td>\n    </tr>\n    <tr>\n      <th>106</th>\n      <td>2016</td>\n      <td>7604</td>\n      <td>10034</td>\n    </tr>\n    <tr>\n      <th>107</th>\n      <td>2017</td>\n      <td>7057</td>\n      <td>9503</td>\n    </tr>\n    <tr>\n      <th>108</th>\n      <td>2018</td>\n      <td>6766</td>\n      <td>9170</td>\n    </tr>\n    <tr>\n      <th>109</th>\n      <td>2019</td>\n      <td>6075</td>\n      <td>8813</td>\n    </tr>\n    <tr>\n      <th>110</th>\n      <td>2020</td>\n      <td>5569</td>\n      <td>8180</td>\n    </tr>\n  </tbody>\n</table>\n<p>111 rows × 3 columns</p>\n</div>"
     },
     "metadata": {}
    }
   ]
  },
  {
   "cell_type": "code",
   "metadata": {
    "cell_id": "1cd23e59e214438f850fb9242f8bf3d6",
    "tags": [],
    "deepnote_to_be_reexecuted": false,
    "source_hash": "e98a1387",
    "execution_start": 1649871060195,
    "execution_millis": 0,
    "deepnote_cell_type": "code",
    "deepnote_cell_height": 81
   },
   "source": "johns_and_graces.set_index(keys = [\"year\"], inplace = True)",
   "execution_count": 10,
   "outputs": []
  },
  {
   "cell_type": "code",
   "metadata": {
    "cell_id": "84676b51540d448394ca8e67064b845b",
    "tags": [],
    "deepnote_to_be_reexecuted": false,
    "source_hash": "beae4665",
    "execution_start": 1649871060196,
    "execution_millis": 549,
    "deepnote_cell_type": "code",
    "deepnote_cell_height": 600
   },
   "source": "johns_and_graces",
   "execution_count": 11,
   "outputs": [
    {
     "output_type": "execute_result",
     "execution_count": 11,
     "data": {
      "application/vnd.deepnote.dataframe.v3+json": {
       "column_count": 2,
       "row_count": 111,
       "columns": [
        {
         "name": "Graces",
         "dtype": "int64",
         "stats": {
          "unique_count": 111,
          "nan_count": 0,
          "min": "470",
          "max": "12786",
          "histogram": [
           {
            "bin_start": 470,
            "bin_end": 1701.6,
            "count": 39
           },
           {
            "bin_start": 1701.6,
            "bin_end": 2933.2,
            "count": 19
           },
           {
            "bin_start": 2933.2,
            "bin_end": 4164.799999999999,
            "count": 10
           },
           {
            "bin_start": 4164.799999999999,
            "bin_end": 5396.4,
            "count": 7
           },
           {
            "bin_start": 5396.4,
            "bin_end": 6628,
            "count": 8
           },
           {
            "bin_start": 6628,
            "bin_end": 7859.599999999999,
            "count": 17
           },
           {
            "bin_start": 7859.599999999999,
            "bin_end": 9091.199999999999,
            "count": 2
           },
           {
            "bin_start": 9091.199999999999,
            "bin_end": 10322.8,
            "count": 2
           },
           {
            "bin_start": 10322.8,
            "bin_end": 11554.4,
            "count": 2
           },
           {
            "bin_start": 11554.4,
            "bin_end": 12786,
            "count": 5
           }
          ]
         }
        },
        {
         "name": "Johns",
         "dtype": "int64",
         "stats": {
          "unique_count": 110,
          "nan_count": 0,
          "min": "8180",
          "max": "88472",
          "histogram": [
           {
            "bin_start": 8180,
            "bin_end": 16209.2,
            "count": 18
           },
           {
            "bin_start": 16209.2,
            "bin_end": 24238.4,
            "count": 11
           },
           {
            "bin_start": 24238.4,
            "bin_end": 32267.6,
            "count": 11
           },
           {
            "bin_start": 32267.6,
            "bin_end": 40296.8,
            "count": 13
           },
           {
            "bin_start": 40296.8,
            "bin_end": 48326,
            "count": 6
           },
           {
            "bin_start": 48326,
            "bin_end": 56355.2,
            "count": 14
           },
           {
            "bin_start": 56355.2,
            "bin_end": 64384.4,
            "count": 13
           },
           {
            "bin_start": 64384.4,
            "bin_end": 72413.6,
            "count": 6
           },
           {
            "bin_start": 72413.6,
            "bin_end": 80442.8,
            "count": 11
           },
           {
            "bin_start": 80442.8,
            "bin_end": 88472,
            "count": 8
           }
          ]
         }
        },
        {
         "name": "_deepnote_index_column",
         "dtype": "int64"
        }
       ],
       "rows": [
        {
         "Graces": 3134,
         "Johns": 11479,
         "_deepnote_index_column": 1910
        },
        {
         "Graces": 3300,
         "Johns": 13469,
         "_deepnote_index_column": 1911
        },
        {
         "Graces": 4409,
         "Johns": 24662,
         "_deepnote_index_column": 1912
        },
        {
         "Graces": 4660,
         "Johns": 29401,
         "_deepnote_index_column": 1913
        },
        {
         "Graces": 5584,
         "Johns": 38051,
         "_deepnote_index_column": 1914
        },
        {
         "Graces": 7043,
         "Johns": 47716,
         "_deepnote_index_column": 1915
        },
        {
         "Graces": 7459,
         "Johns": 50216,
         "_deepnote_index_column": 1916
        },
        {
         "Graces": 7369,
         "Johns": 52053,
         "_deepnote_index_column": 1917
        },
        {
         "Graces": 7770,
         "Johns": 56772,
         "_deepnote_index_column": 1918
        },
        {
         "Graces": 7190,
         "Johns": 53775,
         "_deepnote_index_column": 1919
        }
       ]
      },
      "text/plain": "      Graces  Johns\nyear               \n1910    3134  11479\n1911    3300  13469\n1912    4409  24662\n1913    4660  29401\n1914    5584  38051\n...      ...    ...\n2016    7604  10034\n2017    7057   9503\n2018    6766   9170\n2019    6075   8813\n2020    5569   8180\n\n[111 rows x 2 columns]",
      "text/html": "<div>\n<style scoped>\n    .dataframe tbody tr th:only-of-type {\n        vertical-align: middle;\n    }\n\n    .dataframe tbody tr th {\n        vertical-align: top;\n    }\n\n    .dataframe thead th {\n        text-align: right;\n    }\n</style>\n<table border=\"1\" class=\"dataframe\">\n  <thead>\n    <tr style=\"text-align: right;\">\n      <th></th>\n      <th>Graces</th>\n      <th>Johns</th>\n    </tr>\n    <tr>\n      <th>year</th>\n      <th></th>\n      <th></th>\n    </tr>\n  </thead>\n  <tbody>\n    <tr>\n      <th>1910</th>\n      <td>3134</td>\n      <td>11479</td>\n    </tr>\n    <tr>\n      <th>1911</th>\n      <td>3300</td>\n      <td>13469</td>\n    </tr>\n    <tr>\n      <th>1912</th>\n      <td>4409</td>\n      <td>24662</td>\n    </tr>\n    <tr>\n      <th>1913</th>\n      <td>4660</td>\n      <td>29401</td>\n    </tr>\n    <tr>\n      <th>1914</th>\n      <td>5584</td>\n      <td>38051</td>\n    </tr>\n    <tr>\n      <th>...</th>\n      <td>...</td>\n      <td>...</td>\n    </tr>\n    <tr>\n      <th>2016</th>\n      <td>7604</td>\n      <td>10034</td>\n    </tr>\n    <tr>\n      <th>2017</th>\n      <td>7057</td>\n      <td>9503</td>\n    </tr>\n    <tr>\n      <th>2018</th>\n      <td>6766</td>\n      <td>9170</td>\n    </tr>\n    <tr>\n      <th>2019</th>\n      <td>6075</td>\n      <td>8813</td>\n    </tr>\n    <tr>\n      <th>2020</th>\n      <td>5569</td>\n      <td>8180</td>\n    </tr>\n  </tbody>\n</table>\n<p>111 rows × 2 columns</p>\n</div>"
     },
     "metadata": {}
    }
   ]
  },
  {
   "cell_type": "code",
   "metadata": {
    "cell_id": "176743e5aa3b431e91638d4862c6b00e",
    "tags": [],
    "deepnote_to_be_reexecuted": false,
    "source_hash": "40a14e97",
    "execution_start": 1649871060200,
    "execution_millis": 1614,
    "deepnote_cell_type": "code",
    "deepnote_cell_height": 416
   },
   "source": "johns_and_graces['Graces'].plot(figsize = (10,5), marker = 'o', color = 'r');",
   "execution_count": 12,
   "outputs": [
    {
     "data": {
      "text/plain": "<Figure size 720x360 with 1 Axes>",
      "image/png": "[encoded data removed]"
     },
     "metadata": {
      "needs_background": "light",
      "image/png": {
       "width": 610,
       "height": 317
      }
     },
     "output_type": "display_data"
    }
   ]
  },
  {
   "cell_type": "code",
   "metadata": {
    "cell_id": "cbddffdd4f7745969cfa0462f218c2c8",
    "tags": [],
    "deepnote_to_be_reexecuted": false,
    "source_hash": "84f4dbf1",
    "execution_start": 1649871121816,
    "execution_millis": 300,
    "deepnote_cell_type": "code",
    "deepnote_cell_height": 416
   },
   "source": "johns_and_graces['Johns'].plot(figsize = (10,5), marker = 'o', color = 'b');",
   "execution_count": 14,
   "outputs": [
    {
     "data": {
      "text/plain": "<Figure size 720x360 with 1 Axes>",
      "image/png": "[encoded data removed]"
     },
     "metadata": {
      "needs_background": "light",
      "image/png": {
       "width": 610,
       "height": 317
      }
     },
     "output_type": "display_data"
    }
   ]
  },
  {
   "cell_type": "code",
   "metadata": {
    "cell_id": "7e0063e817f941cc9d590ca380cb8c4a",
    "tags": [],
    "deepnote_to_be_reexecuted": false,
    "source_hash": "81776858",
    "execution_start": 1649871966537,
    "execution_millis": 388,
    "deepnote_cell_type": "code",
    "deepnote_cell_height": 1167,
    "deepnote_output_heights": [
     602
    ]
   },
   "source": "from plotly.subplots import make_subplots # imports # imports plotly\nimport plotly.graph_objects as go # imports plotly graph objects as go\n\nfig = make_subplots(rows=3, cols=1) # makes sublots that stack underneath each other\n\nfig.append_trace(go.Scatter( # makes first plot - it is a line graph\n    x=johns_and_graces.index,\n    y=johns_and_graces['Graces'],\n    name=\"Graces\"\n), row=1, col=1)\n\nfig.append_trace(go.Scatter( # makes second plot - it is a line graph\n    x=johns_and_graces.index,\n    y=johns_and_graces['Johns'],\n    name=\"Johns\"\n), row=2, col=1)\n\nfig.append_trace(go.Bar(\n    x=['Graces', 'Johns'],\n    y=[johns_and_graces['Graces'].sum(),johns_and_graces['Johns'].sum()],\n    marker=dict(color=['royalblue','gold']),\n    showlegend=False,\n    name = 'Totals'\n), row=3, col=1)\n\nfig.update_layout(height=600, width=600, title_text=\"Graces and Johns in the USA\")\nfig.show()",
   "execution_count": 21,
   "outputs": [
    {
     "data": {
      "text/html": "<html>\n<head><meta charset=\"utf-8\" /></head>\n<body>\n    <div>            <script src=\"https://cdnjs.cloudflare.com/ajax/libs/mathjax/2.7.5/MathJax.js?config=TeX-AMS-MML_SVG\"></script><script type=\"text/javascript\">if (window.MathJax) {MathJax.Hub.Config({SVG: {font: \"STIX-Web\"}});}</script>                <script type=\"text/javascript\">window.PlotlyConfig = {MathJaxConfig: 'local'};</script>\n        <script src=\"https://cdn.plot.ly/plotly-2.9.0.min.js\"></script>                <div id=\"9cdf30ad-7f6f-4fcd-91e5-aa2a0a8694c7\" class=\"plotly-graph-div\" style=\"height:600px; width:600px;\"></div>            <script type=\"text/javascript\">                                    window.PLOTLYENV=window.PLOTLYENV || {};                                    if (document.getElementById(\"9cdf30ad-7f6f-4fcd-91e5-aa2a0a8694c7\")) {                    Plotly.newPlot(                        \"9cdf30ad-7f6f-4fcd-91e5-aa2a0a8694c7\",                        [{\"name\":\"Graces\",\"x\":[1910,1911,1912,1913,1914,1915,1916,1917,1918,1919,1920,1921,1922,1923,1924,1925,1926,1927,1928,1929,1930,1931,1932,1933,1934,1935,1936,1937,1938,1939,1940,1941,1942,1943,1944,1945,1946,1947,1948,1949,1950,1951,1952,1953,1954,1955,1956,1957,1958,1959,1960,1961,1962,1963,1964,1965,1966,1967,1968,1969,1970,1971,1972,1973,1974,1975,1976,1977,1978,1979,1980,1981,1982,1983,1984,1985,1986,1987,1988,1989,1990,1991,1992,1993,1994,1995,1996,1997,1998,1999,2000,2001,2002,2003,2004,2005,2006,2007,2008,2009,2010,2011,2012,2013,2014,2015,2016,2017,2018,2019,2020],\"y\":[3134,3300,4409,4660,5584,7043,7459,7369,7770,7190,7166,7226,6736,6312,6325,5978,5425,5300,4988,4566,4216,3715,3531,3325,3077,2989,2777,2705,2601,2367,2375,2096,2150,2102,1910,1729,1751,1869,1657,1591,1493,1557,1512,1359,1383,1378,1820,1897,1687,1634,1545,1417,1290,1253,1182,1079,891,872,711,657,747,636,577,546,483,508,470,478,557,658,727,805,906,964,999,1031,1132,1354,1694,1923,2183,2380,2653,2691,3171,3467,3741,4634,5720,9179,11285,12089,12056,12786,12558,11875,10973,9764,9046,8316,7684,7634,7383,7382,7645,7669,7604,7057,6766,6075,5569],\"type\":\"scatter\",\"xaxis\":\"x\",\"yaxis\":\"y\"},{\"name\":\"Johns\",\"x\":[1910,1911,1912,1913,1914,1915,1916,1917,1918,1919,1920,1921,1922,1923,1924,1925,1926,1927,1928,1929,1930,1931,1932,1933,1934,1935,1936,1937,1938,1939,1940,1941,1942,1943,1944,1945,1946,1947,1948,1949,1950,1951,1952,1953,1954,1955,1956,1957,1958,1959,1960,1961,1962,1963,1964,1965,1966,1967,1968,1969,1970,1971,1972,1973,1974,1975,1976,1977,1978,1979,1980,1981,1982,1983,1984,1985,1986,1987,1988,1989,1990,1991,1992,1993,1994,1995,1996,1997,1998,1999,2000,2001,2002,2003,2004,2005,2006,2007,2008,2009,2010,2011,2012,2013,2014,2015,2016,2017,2018,2019,2020],\"y\":[11479,13469,24662,29401,38051,47716,50216,52053,56772,53775,57148,58466,57519,57767,59409,57539,56456,56354,54146,52475,52816,48716,48874,46406,46943,47665,47843,48918,50680,51200,54951,57691,66223,69103,66731,66261,79427,88472,82974,81311,79562,81728,83287,80271,81328,80271,80955,79186,76163,76566,76264,80172,78654,78851,82771,71740,65250,61861,61162,59021,58784,51754,43358,39357,37831,35282,34160,34369,34190,35600,35472,35020,34897,33369,32820,31681,30369,29711,29539,29941,29125,27828,26280,25018,24198,23255,22193,21391,20630,20354,20106,18893,17460,17236,16502,15789,15177,14433,13323,12124,11560,11058,10628,10716,10693,10398,10034,9503,9170,8813,8180],\"type\":\"scatter\",\"xaxis\":\"x2\",\"yaxis\":\"y2\"},{\"marker\":{\"color\":[\"royalblue\",\"gold\"]},\"name\":\"Totals\",\"showlegend\":false,\"x\":[\"Graces\",\"Johns\"],\"y\":[441320,4902713],\"type\":\"bar\",\"xaxis\":\"x3\",\"yaxis\":\"y3\"}],                        {\"template\":{\"data\":{\"bar\":[{\"error_x\":{\"color\":\"#2a3f5f\"},\"error_y\":{\"color\":\"#2a3f5f\"},\"marker\":{\"line\":{\"color\":\"#E5ECF6\",\"width\":0.5},\"pattern\":{\"fillmode\":\"overlay\",\"size\":10,\"solidity\":0.2}},\"type\":\"bar\"}],\"barpolar\":[{\"marker\":{\"line\":{\"color\":\"#E5ECF6\",\"width\":0.5},\"pattern\":{\"fillmode\":\"overlay\",\"size\":10,\"solidity\":0.2}},\"type\":\"barpolar\"}],\"carpet\":[{\"aaxis\":{\"endlinecolor\":\"#2a3f5f\",\"gridcolor\":\"white\",\"linecolor\":\"white\",\"minorgridcolor\":\"white\",\"startlinecolor\":\"#2a3f5f\"},\"baxis\":{\"endlinecolor\":\"#2a3f5f\",\"gridcolor\":\"white\",\"linecolor\":\"white\",\"minorgridcolor\":\"white\",\"startlinecolor\":\"#2a3f5f\"},\"type\":\"carpet\"}],\"choropleth\":[{\"colorbar\":{\"outlinewidth\":0,\"ticks\":\"\"},\"type\":\"choropleth\"}],\"contour\":[{\"colorbar\":{\"outlinewidth\":0,\"ticks\":\"\"},\"colorscale\":[[0.0,\"#0d0887\"],[0.1111111111111111,\"#46039f\"],[0.2222222222222222,\"#7201a8\"],[0.3333333333333333,\"#9c179e\"],[0.4444444444444444,\"#bd3786\"],[0.5555555555555556,\"#d8576b\"],[0.6666666666666666,\"#ed7953\"],[0.7777777777777778,\"#fb9f3a\"],[0.8888888888888888,\"#fdca26\"],[1.0,\"#f0f921\"]],\"type\":\"contour\"}],\"contourcarpet\":[{\"colorbar\":{\"outlinewidth\":0,\"ticks\":\"\"},\"type\":\"contourcarpet\"}],\"heatmap\":[{\"colorbar\":{\"outlinewidth\":0,\"ticks\":\"\"},\"colorscale\":[[0.0,\"#0d0887\"],[0.1111111111111111,\"#46039f\"],[0.2222222222222222,\"#7201a8\"],[0.3333333333333333,\"#9c179e\"],[0.4444444444444444,\"#bd3786\"],[0.5555555555555556,\"#d8576b\"],[0.6666666666666666,\"#ed7953\"],[0.7777777777777778,\"#fb9f3a\"],[0.8888888888888888,\"#fdca26\"],[1.0,\"#f0f921\"]],\"type\":\"heatmap\"}],\"heatmapgl\":[{\"colorbar\":{\"outlinewidth\":0,\"ticks\":\"\"},\"colorscale\":[[0.0,\"#0d0887\"],[0.1111111111111111,\"#46039f\"],[0.2222222222222222,\"#7201a8\"],[0.3333333333333333,\"#9c179e\"],[0.4444444444444444,\"#bd3786\"],[0.5555555555555556,\"#d8576b\"],[0.6666666666666666,\"#ed7953\"],[0.7777777777777778,\"#fb9f3a\"],[0.8888888888888888,\"#fdca26\"],[1.0,\"#f0f921\"]],\"type\":\"heatmapgl\"}],\"histogram\":[{\"marker\":{\"pattern\":{\"fillmode\":\"overlay\",\"size\":10,\"solidity\":0.2}},\"type\":\"histogram\"}],\"histogram2d\":[{\"colorbar\":{\"outlinewidth\":0,\"ticks\":\"\"},\"colorscale\":[[0.0,\"#0d0887\"],[0.1111111111111111,\"#46039f\"],[0.2222222222222222,\"#7201a8\"],[0.3333333333333333,\"#9c179e\"],[0.4444444444444444,\"#bd3786\"],[0.5555555555555556,\"#d8576b\"],[0.6666666666666666,\"#ed7953\"],[0.7777777777777778,\"#fb9f3a\"],[0.8888888888888888,\"#fdca26\"],[1.0,\"#f0f921\"]],\"type\":\"histogram2d\"}],\"histogram2dcontour\":[{\"colorbar\":{\"outlinewidth\":0,\"ticks\":\"\"},\"colorscale\":[[0.0,\"#0d0887\"],[0.1111111111111111,\"#46039f\"],[0.2222222222222222,\"#7201a8\"],[0.3333333333333333,\"#9c179e\"],[0.4444444444444444,\"#bd3786\"],[0.5555555555555556,\"#d8576b\"],[0.6666666666666666,\"#ed7953\"],[0.7777777777777778,\"#fb9f3a\"],[0.8888888888888888,\"#fdca26\"],[1.0,\"#f0f921\"]],\"type\":\"histogram2dcontour\"}],\"mesh3d\":[{\"colorbar\":{\"outlinewidth\":0,\"ticks\":\"\"},\"type\":\"mesh3d\"}],\"parcoords\":[{\"line\":{\"colorbar\":{\"outlinewidth\":0,\"ticks\":\"\"}},\"type\":\"parcoords\"}],\"pie\":[{\"automargin\":true,\"type\":\"pie\"}],\"scatter\":[{\"marker\":{\"colorbar\":{\"outlinewidth\":0,\"ticks\":\"\"}},\"type\":\"scatter\"}],\"scatter3d\":[{\"line\":{\"colorbar\":{\"outlinewidth\":0,\"ticks\":\"\"}},\"marker\":{\"colorbar\":{\"outlinewidth\":0,\"ticks\":\"\"}},\"type\":\"scatter3d\"}],\"scattercarpet\":[{\"marker\":{\"colorbar\":{\"outlinewidth\":0,\"ticks\":\"\"}},\"type\":\"scattercarpet\"}],\"scattergeo\":[{\"marker\":{\"colorbar\":{\"outlinewidth\":0,\"ticks\":\"\"}},\"type\":\"scattergeo\"}],\"scattergl\":[{\"marker\":{\"colorbar\":{\"outlinewidth\":0,\"ticks\":\"\"}},\"type\":\"scattergl\"}],\"scattermapbox\":[{\"marker\":{\"colorbar\":{\"outlinewidth\":0,\"ticks\":\"\"}},\"type\":\"scattermapbox\"}],\"scatterpolar\":[{\"marker\":{\"colorbar\":{\"outlinewidth\":0,\"ticks\":\"\"}},\"type\":\"scatterpolar\"}],\"scatterpolargl\":[{\"marker\":{\"colorbar\":{\"outlinewidth\":0,\"ticks\":\"\"}},\"type\":\"scatterpolargl\"}],\"scatterternary\":[{\"marker\":{\"colorbar\":{\"outlinewidth\":0,\"ticks\":\"\"}},\"type\":\"scatterternary\"}],\"surface\":[{\"colorbar\":{\"outlinewidth\":0,\"ticks\":\"\"},\"colorscale\":[[0.0,\"#0d0887\"],[0.1111111111111111,\"#46039f\"],[0.2222222222222222,\"#7201a8\"],[0.3333333333333333,\"#9c179e\"],[0.4444444444444444,\"#bd3786\"],[0.5555555555555556,\"#d8576b\"],[0.6666666666666666,\"#ed7953\"],[0.7777777777777778,\"#fb9f3a\"],[0.8888888888888888,\"#fdca26\"],[1.0,\"#f0f921\"]],\"type\":\"surface\"}],\"table\":[{\"cells\":{\"fill\":{\"color\":\"#EBF0F8\"},\"line\":{\"color\":\"white\"}},\"header\":{\"fill\":{\"color\":\"#C8D4E3\"},\"line\":{\"color\":\"white\"}},\"type\":\"table\"}]},\"layout\":{\"annotationdefaults\":{\"arrowcolor\":\"#2a3f5f\",\"arrowhead\":0,\"arrowwidth\":1},\"autotypenumbers\":\"strict\",\"coloraxis\":{\"colorbar\":{\"outlinewidth\":0,\"ticks\":\"\"}},\"colorscale\":{\"diverging\":[[0,\"#8e0152\"],[0.1,\"#c51b7d\"],[0.2,\"#de77ae\"],[0.3,\"#f1b6da\"],[0.4,\"#fde0ef\"],[0.5,\"#f7f7f7\"],[0.6,\"#e6f5d0\"],[0.7,\"#b8e186\"],[0.8,\"#7fbc41\"],[0.9,\"#4d9221\"],[1,\"#276419\"]],\"sequential\":[[0.0,\"#0d0887\"],[0.1111111111111111,\"#46039f\"],[0.2222222222222222,\"#7201a8\"],[0.3333333333333333,\"#9c179e\"],[0.4444444444444444,\"#bd3786\"],[0.5555555555555556,\"#d8576b\"],[0.6666666666666666,\"#ed7953\"],[0.7777777777777778,\"#fb9f3a\"],[0.8888888888888888,\"#fdca26\"],[1.0,\"#f0f921\"]],\"sequentialminus\":[[0.0,\"#0d0887\"],[0.1111111111111111,\"#46039f\"],[0.2222222222222222,\"#7201a8\"],[0.3333333333333333,\"#9c179e\"],[0.4444444444444444,\"#bd3786\"],[0.5555555555555556,\"#d8576b\"],[0.6666666666666666,\"#ed7953\"],[0.7777777777777778,\"#fb9f3a\"],[0.8888888888888888,\"#fdca26\"],[1.0,\"#f0f921\"]]},\"colorway\":[\"#636efa\",\"#EF553B\",\"#00cc96\",\"#ab63fa\",\"#FFA15A\",\"#19d3f3\",\"#FF6692\",\"#B6E880\",\"#FF97FF\",\"#FECB52\"],\"font\":{\"color\":\"#2a3f5f\"},\"geo\":{\"bgcolor\":\"white\",\"lakecolor\":\"white\",\"landcolor\":\"#E5ECF6\",\"showlakes\":true,\"showland\":true,\"subunitcolor\":\"white\"},\"hoverlabel\":{\"align\":\"left\"},\"hovermode\":\"closest\",\"mapbox\":{\"style\":\"light\"},\"paper_bgcolor\":\"white\",\"plot_bgcolor\":\"#E5ECF6\",\"polar\":{\"angularaxis\":{\"gridcolor\":\"white\",\"linecolor\":\"white\",\"ticks\":\"\"},\"bgcolor\":\"#E5ECF6\",\"radialaxis\":{\"gridcolor\":\"white\",\"linecolor\":\"white\",\"ticks\":\"\"}},\"scene\":{\"xaxis\":{\"backgroundcolor\":\"#E5ECF6\",\"gridcolor\":\"white\",\"gridwidth\":2,\"linecolor\":\"white\",\"showbackground\":true,\"ticks\":\"\",\"zerolinecolor\":\"white\"},\"yaxis\":{\"backgroundcolor\":\"#E5ECF6\",\"gridcolor\":\"white\",\"gridwidth\":2,\"linecolor\":\"white\",\"showbackground\":true,\"ticks\":\"\",\"zerolinecolor\":\"white\"},\"zaxis\":{\"backgroundcolor\":\"#E5ECF6\",\"gridcolor\":\"white\",\"gridwidth\":2,\"linecolor\":\"white\",\"showbackground\":true,\"ticks\":\"\",\"zerolinecolor\":\"white\"}},\"shapedefaults\":{\"line\":{\"color\":\"#2a3f5f\"}},\"ternary\":{\"aaxis\":{\"gridcolor\":\"white\",\"linecolor\":\"white\",\"ticks\":\"\"},\"baxis\":{\"gridcolor\":\"white\",\"linecolor\":\"white\",\"ticks\":\"\"},\"bgcolor\":\"#E5ECF6\",\"caxis\":{\"gridcolor\":\"white\",\"linecolor\":\"white\",\"ticks\":\"\"}},\"title\":{\"x\":0.05},\"xaxis\":{\"automargin\":true,\"gridcolor\":\"white\",\"linecolor\":\"white\",\"ticks\":\"\",\"title\":{\"standoff\":15},\"zerolinecolor\":\"white\",\"zerolinewidth\":2},\"yaxis\":{\"automargin\":true,\"gridcolor\":\"white\",\"linecolor\":\"white\",\"ticks\":\"\",\"title\":{\"standoff\":15},\"zerolinecolor\":\"white\",\"zerolinewidth\":2}}},\"xaxis\":{\"anchor\":\"y\",\"domain\":[0.0,1.0]},\"yaxis\":{\"anchor\":\"x\",\"domain\":[0.7333333333333333,1.0]},\"xaxis2\":{\"anchor\":\"y2\",\"domain\":[0.0,1.0]},\"yaxis2\":{\"anchor\":\"x2\",\"domain\":[0.36666666666666664,0.6333333333333333]},\"xaxis3\":{\"anchor\":\"y3\",\"domain\":[0.0,1.0]},\"yaxis3\":{\"anchor\":\"x3\",\"domain\":[0.0,0.26666666666666666]},\"title\":{\"text\":\"Graces and Johns in the USA\"},\"height\":600,\"width\":600},                        {\"responsive\": true}                    ).then(function(){\n                            \nvar gd = document.getElementById('9cdf30ad-7f6f-4fcd-91e5-aa2a0a8694c7');\nvar x = new MutationObserver(function (mutations, observer) {{\n        var display = window.getComputedStyle(gd).display;\n        if (!display || display === 'none') {{\n            console.log([gd, 'removed!']);\n            Plotly.purge(gd);\n            observer.disconnect();\n        }}\n}});\n\n// Listen for the removal of the full notebook cells\nvar notebookContainer = gd.closest('#notebook-container');\nif (notebookContainer) {{\n    x.observe(notebookContainer, {childList: true});\n}}\n\n// Listen for the clearing of the current output cell\nvar outputEl = gd.closest('.output');\nif (outputEl) {{\n    x.observe(outputEl, {childList: true});\n}}\n\n                        })                };                            </script>        </div>\n</body>\n</html>"
     },
     "metadata": {},
     "output_type": "display_data"
    }
   ]
  },
  {
   "cell_type": "code",
   "metadata": {
    "cell_id": "dcd1816163e34946ac328db3bedb2d30",
    "tags": [],
    "owner_user_id": "3bfb12d7-bb73-4d7b-8185-8ffaf284befd",
    "deepnote_to_be_reexecuted": false,
    "source_hash": "895515aa",
    "execution_start": 1649872079188,
    "execution_millis": 0,
    "deepnote_cell_type": "code",
    "deepnote_cell_height": 81
   },
   "source": "fig.write_html(\"index.html\")",
   "execution_count": 22,
   "outputs": []
  },
  {
   "cell_type": "markdown",
   "source": "<a style='text-decoration:none;line-height:16px;display:flex;color:#5B5B62;padding:10px;justify-content:end;' href='https://deepnote.com?utm_source=created-in-deepnote-cell&projectId=5979d33c-fd8c-42c7-8cb3-991cf5bd132d' target=\"_blank\">\n<img alt='Created in deepnote.com' style='display:inline;max-height:16px;margin:0px;margin-right:7.5px;' src='data:image/svg+xml;base64,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' > </img>\nCreated in <span style='font-weight:600;margin-left:4px;'>Deepnote</span></a>",
   "metadata": {
    "tags": [],
    "created_in_deepnote_cell": true,
    "deepnote_cell_type": "markdown"
   }
  }
 ],
 "nbformat": 4,
 "nbformat_minor": 2,
 "metadata": {
  "orig_nbformat": 2,
  "deepnote": {
   "is_reactive": false
  },
  "deepnote_notebook_id": "0d62c6c3-7363-4d21-bb2e-51a5871042da",
  "deepnote_execution_queue": []
 }
}